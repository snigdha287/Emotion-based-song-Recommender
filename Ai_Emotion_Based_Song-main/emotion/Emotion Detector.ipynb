{
 "cells": [
  {
   "cell_type": "code",
   "execution_count": 1,
   "metadata": {},
   "outputs": [],
   "source": [
    "import numpy as np\n",
    "import pandas as pd\n",
    "import os \n",
    "#for dirname, _, filenames in os.walk('/local/input'):\n",
    "    #for filename in filenames:\n",
    "        #print(os.path.join(dirname, filename))\n",
    "import matplotlib.pyplot as plt\n",
    "import seaborn as sns\n",
    "import tensorflow as tf\n",
    "import keras\n",
    "from keras.preprocessing import image \n",
    "from keras.models import Sequential\n",
    "from keras.layers import Conv2D, MaxPool2D, Flatten, Dense, Dropout, BatchNormalization\n",
    "from tensorflow.keras.preprocessing.image import ImageDataGenerator\n",
    "import cv2\n",
    "from tensorflow.keras.applications import VGG16, InceptionResNetV2\n",
    "from keras import regularizers\n",
    "from tensorflow.keras.optimizers import Adam, RMSprop,SGD, Adamax"
   ]
  },
  {
   "cell_type": "code",
   "execution_count": 36,
   "metadata": {},
   "outputs": [],
   "source": [
    "train_dir = \"./train_1\"\n",
    "test_dir = \"./test_1\""
   ]
  },
  {
   "cell_type": "code",
   "execution_count": 37,
   "metadata": {},
   "outputs": [],
   "source": [
    "img_size = 48 #original size of the image"
   ]
  },
  {
   "cell_type": "code",
   "execution_count": 38,
   "metadata": {},
   "outputs": [],
   "source": [
    "train_datagen = ImageDataGenerator(#rotation_range = 180,\n",
    "                                         width_shift_range = 0.1,\n",
    "                                         height_shift_range = 0.1,\n",
    "                                         horizontal_flip = True,\n",
    "                                         rescale = 1./255,\n",
    "                                         #zoom_range = 0.2,\n",
    "                                         validation_split = 0.2\n",
    "                                        )\n",
    "validation_datagen = ImageDataGenerator(rescale = 1./255,\n",
    "                                         validation_split = 0.2)"
   ]
  },
  {
   "cell_type": "code",
   "execution_count": 39,
   "metadata": {},
   "outputs": [
    {
     "name": "stdout",
     "output_type": "stream",
     "text": [
      "Found 16804 images belonging to 4 classes.\n",
      "Found 1040 images belonging to 4 classes.\n"
     ]
    }
   ],
   "source": [
    "train_generator = train_datagen.flow_from_directory(directory = train_dir,\n",
    "                                                    target_size = (img_size,img_size),\n",
    "                                                    batch_size = 64,\n",
    "                                                    color_mode = \"grayscale\",\n",
    "                                                    class_mode = \"categorical\",\n",
    "                                                    subset = \"training\"\n",
    "                                                   )\n",
    "validation_generator = validation_datagen.flow_from_directory( directory = test_dir,\n",
    "                                                              target_size = (img_size,img_size),\n",
    "                                                              batch_size = 64,\n",
    "                                                              color_mode = \"grayscale\",\n",
    "                                                              class_mode = \"categorical\",\n",
    "                                                              subset = \"validation\"\n",
    "                                                             )"
   ]
  },
  {
   "cell_type": "code",
   "execution_count": 40,
   "metadata": {},
   "outputs": [
    {
     "name": "stdout",
     "output_type": "stream",
     "text": [
      "Found 21005 images belonging to 4 classes.\n",
      "(<tensorflow.python.keras.preprocessing.image.DirectoryIterator object at 0x000001D98BE8FA48>, {'angry': 0, 'happy': 1, 'neutral': 2, 'sad': 3})\n"
     ]
    }
   ],
   "source": [
    " def build(source=train_dir):\n",
    "    datagen = ImageDataGenerator(rescale=1. / 255)\n",
    "    data_generator = train_datagen.flow_from_directory(\n",
    "    source,  # this is the target directory\n",
    "    target_size=(150,150),  # all images will be resized to 150x150\n",
    "    batch_size=64,\n",
    "    class_mode='sparse')\n",
    "    class_dictionary = data_generator.class_indices\n",
    "    return data_generator, class_dictionary\n",
    "print(build(train_dir))"
   ]
  },
  {
   "cell_type": "code",
   "execution_count": 41,
   "metadata": {},
   "outputs": [],
   "source": [
    "model= tf.keras.models.Sequential()\n",
    "model.add(Conv2D(32, kernel_size=(3, 3), padding='same', activation='relu', input_shape=(48, 48,1)))\n",
    "model.add(Conv2D(64,(3,3), padding='same', activation='relu' ))\n",
    "model.add(BatchNormalization())\n",
    "model.add(MaxPool2D(pool_size=(2, 2)))\n",
    "model.add(Dropout(0.25))\n",
    "\n",
    "model.add(Conv2D(128,(5,5), padding='same', activation='relu'))\n",
    "model.add(BatchNormalization())\n",
    "model.add(MaxPool2D(pool_size=(2, 2)))\n",
    "model.add(Dropout(0.25))\n",
    "    \n",
    "model.add(Conv2D(512,(3,3), padding='same', activation='relu', kernel_regularizer=regularizers.l2(0.01)))\n",
    "model.add(BatchNormalization())\n",
    "model.add(MaxPool2D(po0ol_size=(2, 2)))\n",
    "model.add(Dropout(0.25))\n",
    "\n",
    "model.add(Conv2D(512,(3,3), padding='same', activation='relu', kernel_regularizer=regularizers.l2(0.01)))\n",
    "model.add(BatchNormalization())\n",
    "model.add(MaxPool2D(pool_size=(2, 2)))\n",
    "model.add(Dropout(0.25))\n",
    "\n",
    "model.add(Flatten()) \n",
    "model.add(Dense(256,activation = 'relu'))\n",
    "model.add(BatchNormalization())\n",
    "model.add(Dropout(0.25))\n",
    "    \n",
    "model.add(Dense(512,activation = 'relu'))\n",
    "model.add(BatchNormalization())\n",
    "model.add(Dropout(0.25))\n",
    "\n",
    "model.add(Dense(4, activation='softmax'))\n",
    "\n",
    "model.compile(\n",
    "    optimizer = Adam(lr=0.0001), \n",
    "    loss='categorical_crossentropy', \n",
    "    metrics=['accuracy']\n",
    "  )\n",
    "  "
   ]
  },
  {
   "cell_type": "code",
   "execution_count": 42,
   "metadata": {},
   "outputs": [],
   "source": [
    "epochs = 70\n",
    "batch_size = 64"
   ]
  },
  {
   "cell_type": "code",
   "execution_count": 43,
   "metadata": {},
   "outputs": [],
   "source": [
    "import tensorflow as tf\n",
    "from tensorflow.python.keras import backend as K\n",
    "\n",
    "# adjust values to your needs\n",
    "config = tf.compat.v1.ConfigProto( device_count = {'GPU': 0} )\n",
    "sess = tf.compat.v1.Session(config=config) \n",
    "K.set_session(sess)"
   ]
  },
  {
   "cell_type": "code",
   "execution_count": 44,
   "metadata": {},
   "outputs": [
    {
     "name": "stdout",
     "output_type": "stream",
     "text": [
      "Epoch 1/70\n",
      "263/263 [==============================] - 102s 378ms/step - loss: 1.8375 - accuracy: 0.2870 - val_loss: 1.4441 - val_accuracy: 0.3510\n",
      "Epoch 2/70\n",
      "263/263 [==============================] - 17s 66ms/step - loss: 1.6348 - accuracy: 0.3143 - val_loss: 1.4539 - val_accuracy: 0.3202\n",
      "Epoch 3/70\n",
      "263/263 [==============================] - 17s 66ms/step - loss: 1.5864 - accuracy: 0.3258 - val_loss: 1.4468 - val_accuracy: 0.3269\n",
      "Epoch 4/70\n",
      "263/263 [==============================] - 17s 66ms/step - loss: 1.5185 - accuracy: 0.3429 - val_loss: 1.2943 - val_accuracy: 0.3990\n",
      "Epoch 5/70\n",
      "263/263 [==============================] - 17s 66ms/step - loss: 1.4869 - accuracy: 0.3543 - val_loss: 1.2761 - val_accuracy: 0.4317\n",
      "Epoch 6/70\n",
      "263/263 [==============================] - 17s 66ms/step - loss: 1.4452 - accuracy: 0.3741 - val_loss: 1.2502 - val_accuracy: 0.4317\n",
      "Epoch 7/70\n",
      "263/263 [==============================] - 17s 65ms/step - loss: 1.4213 - accuracy: 0.3847 - val_loss: 1.4601 - val_accuracy: 0.4077\n",
      "Epoch 8/70\n",
      "263/263 [==============================] - 17s 65ms/step - loss: 1.3581 - accuracy: 0.4156 - val_loss: 1.2126 - val_accuracy: 0.4827\n",
      "Epoch 9/70\n",
      "263/263 [==============================] - 18s 67ms/step - loss: 1.3151 - accuracy: 0.4299 - val_loss: 1.1840 - val_accuracy: 0.4856\n",
      "Epoch 10/70\n",
      "263/263 [==============================] - 17s 65ms/step - loss: 1.2840 - accuracy: 0.4407 - val_loss: 1.4444 - val_accuracy: 0.4635\n",
      "Epoch 11/70\n",
      "263/263 [==============================] - 17s 64ms/step - loss: 1.2393 - accuracy: 0.4635 - val_loss: 1.3808 - val_accuracy: 0.4827\n",
      "Epoch 12/70\n",
      "263/263 [==============================] - 17s 65ms/step - loss: 1.2023 - accuracy: 0.4792 - val_loss: 1.1662 - val_accuracy: 0.5385\n",
      "Epoch 13/70\n",
      "263/263 [==============================] - 17s 64ms/step - loss: 1.1708 - accuracy: 0.4920 - val_loss: 1.1840 - val_accuracy: 0.5240\n",
      "Epoch 14/70\n",
      "263/263 [==============================] - 17s 65ms/step - loss: 1.1298 - accuracy: 0.5107 - val_loss: 1.0863 - val_accuracy: 0.5721\n",
      "Epoch 15/70\n",
      "263/263 [==============================] - 17s 66ms/step - loss: 1.0960 - accuracy: 0.5289 - val_loss: 1.1807 - val_accuracy: 0.5327\n",
      "Epoch 16/70\n",
      "263/263 [==============================] - 17s 65ms/step - loss: 1.0760 - accuracy: 0.5386 - val_loss: 0.9519 - val_accuracy: 0.6269\n",
      "Epoch 17/70\n",
      "263/263 [==============================] - 17s 65ms/step - loss: 1.0503 - accuracy: 0.5491 - val_loss: 0.9945 - val_accuracy: 0.6038\n",
      "Epoch 18/70\n",
      "263/263 [==============================] - 17s 66ms/step - loss: 1.0219 - accuracy: 0.5619 - val_loss: 0.9387 - val_accuracy: 0.6288\n",
      "Epoch 19/70\n",
      "263/263 [==============================] - 17s 65ms/step - loss: 0.9972 - accuracy: 0.5696 - val_loss: 0.8786 - val_accuracy: 0.6231\n",
      "Epoch 20/70\n",
      "263/263 [==============================] - 17s 64ms/step - loss: 0.9663 - accuracy: 0.5883 - val_loss: 0.9140 - val_accuracy: 0.6221\n",
      "Epoch 21/70\n",
      "263/263 [==============================] - 17s 65ms/step - loss: 0.9500 - accuracy: 0.5942 - val_loss: 0.9318 - val_accuracy: 0.6250\n",
      "Epoch 22/70\n",
      "263/263 [==============================] - 17s 65ms/step - loss: 0.9277 - accuracy: 0.6064 - val_loss: 0.8315 - val_accuracy: 0.6375\n",
      "Epoch 23/70\n",
      "263/263 [==============================] - 17s 65ms/step - loss: 0.9157 - accuracy: 0.6127 - val_loss: 0.9450 - val_accuracy: 0.6106\n",
      "Epoch 24/70\n",
      "263/263 [==============================] - 17s 65ms/step - loss: 0.8897 - accuracy: 0.6227 - val_loss: 0.8372 - val_accuracy: 0.6519\n",
      "Epoch 25/70\n",
      "263/263 [==============================] - 17s 65ms/step - loss: 0.8867 - accuracy: 0.6268 - val_loss: 0.8142 - val_accuracy: 0.6635\n",
      "Epoch 26/70\n",
      "263/263 [==============================] - 17s 65ms/step - loss: 0.8776 - accuracy: 0.6296 - val_loss: 0.8863 - val_accuracy: 0.6442\n",
      "Epoch 27/70\n",
      "263/263 [==============================] - 17s 65ms/step - loss: 0.8552 - accuracy: 0.6403 - val_loss: 0.7898 - val_accuracy: 0.6750\n",
      "Epoch 28/70\n",
      "263/263 [==============================] - 17s 65ms/step - loss: 0.8380 - accuracy: 0.6543 - val_loss: 0.8683 - val_accuracy: 0.6471\n",
      "Epoch 29/70\n",
      "263/263 [==============================] - 17s 66ms/step - loss: 0.8317 - accuracy: 0.6541 - val_loss: 0.7895 - val_accuracy: 0.6721\n",
      "Epoch 30/70\n",
      "263/263 [==============================] - 17s 66ms/step - loss: 0.8186 - accuracy: 0.6619 - val_loss: 0.7439 - val_accuracy: 0.6865\n",
      "Epoch 31/70\n",
      "263/263 [==============================] - 17s 66ms/step - loss: 0.8124 - accuracy: 0.6586 - val_loss: 0.7381 - val_accuracy: 0.6942\n",
      "Epoch 32/70\n",
      "263/263 [==============================] - 17s 66ms/step - loss: 0.8022 - accuracy: 0.6641 - val_loss: 0.7578 - val_accuracy: 0.6913\n",
      "Epoch 33/70\n",
      "263/263 [==============================] - 17s 65ms/step - loss: 0.7990 - accuracy: 0.6709 - val_loss: 0.7368 - val_accuracy: 0.7038\n",
      "Epoch 34/70\n",
      "263/263 [==============================] - 17s 64ms/step - loss: 0.7882 - accuracy: 0.6743 - val_loss: 0.7339 - val_accuracy: 0.6981\n",
      "Epoch 35/70\n",
      "263/263 [==============================] - 17s 64ms/step - loss: 0.7744 - accuracy: 0.6823 - val_loss: 0.7842 - val_accuracy: 0.6846\n",
      "Epoch 36/70\n",
      "263/263 [==============================] - 18s 67ms/step - loss: 0.7660 - accuracy: 0.6867 - val_loss: 0.7486 - val_accuracy: 0.6981\n",
      "Epoch 37/70\n",
      "263/263 [==============================] - 17s 63ms/step - loss: 0.7648 - accuracy: 0.6863 - val_loss: 0.7344 - val_accuracy: 0.7058\n",
      "Epoch 38/70\n",
      "263/263 [==============================] - 17s 63ms/step - loss: 0.7529 - accuracy: 0.6930 - val_loss: 0.7349 - val_accuracy: 0.6990\n",
      "Epoch 39/70\n",
      "263/263 [==============================] - 17s 63ms/step - loss: 0.7448 - accuracy: 0.6946 - val_loss: 0.7404 - val_accuracy: 0.7019\n",
      "Epoch 40/70\n",
      "263/263 [==============================] - 17s 63ms/step - loss: 0.7391 - accuracy: 0.6989 - val_loss: 0.7432 - val_accuracy: 0.6894\n",
      "Epoch 41/70\n",
      "263/263 [==============================] - 17s 63ms/step - loss: 0.7335 - accuracy: 0.6983 - val_loss: 0.7103 - val_accuracy: 0.7096\n",
      "Epoch 42/70\n",
      "263/263 [==============================] - 17s 63ms/step - loss: 0.7196 - accuracy: 0.7057 - val_loss: 0.7454 - val_accuracy: 0.7029\n",
      "Epoch 43/70\n",
      "263/263 [==============================] - 17s 63ms/step - loss: 0.7194 - accuracy: 0.7068 - val_loss: 0.6962 - val_accuracy: 0.7058\n",
      "Epoch 44/70\n",
      "263/263 [==============================] - 17s 64ms/step - loss: 0.7015 - accuracy: 0.7163 - val_loss: 0.6946 - val_accuracy: 0.7221\n",
      "Epoch 45/70\n",
      "263/263 [==============================] - 17s 66ms/step - loss: 0.7014 - accuracy: 0.7135 - val_loss: 0.7069 - val_accuracy: 0.7087\n",
      "Epoch 46/70\n",
      "263/263 [==============================] - 18s 68ms/step - loss: 0.6880 - accuracy: 0.7216 - val_loss: 0.7390 - val_accuracy: 0.6942\n",
      "Epoch 47/70\n",
      "263/263 [==============================] - 17s 66ms/step - loss: 0.6861 - accuracy: 0.7219 - val_loss: 0.7350 - val_accuracy: 0.7125\n",
      "Epoch 48/70\n",
      "263/263 [==============================] - 18s 66ms/step - loss: 0.6811 - accuracy: 0.7251 - val_loss: 0.7099 - val_accuracy: 0.7125\n",
      "Epoch 49/70\n",
      "263/263 [==============================] - 18s 68ms/step - loss: 0.6781 - accuracy: 0.7254 - val_loss: 0.7076 - val_accuracy: 0.7288\n",
      "Epoch 50/70\n",
      "263/263 [==============================] - 17s 66ms/step - loss: 0.6682 - accuracy: 0.7304 - val_loss: 0.6882 - val_accuracy: 0.7173\n",
      "Epoch 51/70\n",
      "263/263 [==============================] - 17s 65ms/step - loss: 0.6615 - accuracy: 0.7338 - val_loss: 0.6818 - val_accuracy: 0.7231\n",
      "Epoch 52/70\n",
      "263/263 [==============================] - 17s 65ms/step - loss: 0.6551 - accuracy: 0.7344 - val_loss: 0.6767 - val_accuracy: 0.7298\n",
      "Epoch 53/70\n",
      "263/263 [==============================] - 17s 65ms/step - loss: 0.6556 - accuracy: 0.7366 - val_loss: 0.6912 - val_accuracy: 0.7250\n",
      "Epoch 54/70\n",
      "263/263 [==============================] - 17s 65ms/step - loss: 0.6391 - accuracy: 0.7412 - val_loss: 0.7105 - val_accuracy: 0.7221\n",
      "Epoch 55/70\n",
      "263/263 [==============================] - 17s 65ms/step - loss: 0.6375 - accuracy: 0.7434 - val_loss: 0.6895 - val_accuracy: 0.7192\n",
      "Epoch 56/70\n",
      "263/263 [==============================] - 18s 69ms/step - loss: 0.6419 - accuracy: 0.7466 - val_loss: 0.6899 - val_accuracy: 0.7260\n",
      "Epoch 57/70\n",
      "263/263 [==============================] - 19s 70ms/step - loss: 0.6235 - accuracy: 0.7479 - val_loss: 0.7162 - val_accuracy: 0.7183\n",
      "Epoch 58/70\n",
      "263/263 [==============================] - 18s 68ms/step - loss: 0.6287 - accuracy: 0.7482 - val_loss: 0.7147 - val_accuracy: 0.7192\n",
      "Epoch 59/70\n",
      "263/263 [==============================] - 17s 66ms/step - loss: 0.6187 - accuracy: 0.7521 - val_loss: 0.7303 - val_accuracy: 0.7029\n",
      "Epoch 60/70\n",
      "263/263 [==============================] - 18s 67ms/step - loss: 0.6164 - accuracy: 0.7551 - val_loss: 0.6702 - val_accuracy: 0.7327\n",
      "Epoch 61/70\n",
      "263/263 [==============================] - 17s 65ms/step - loss: 0.6034 - accuracy: 0.7607 - val_loss: 0.6920 - val_accuracy: 0.7106\n",
      "Epoch 62/70\n",
      "263/263 [==============================] - 17s 66ms/step - loss: 0.6092 - accuracy: 0.7538 - val_loss: 0.6965 - val_accuracy: 0.7250\n",
      "Epoch 63/70\n",
      "263/263 [==============================] - 18s 67ms/step - loss: 0.6022 - accuracy: 0.7596 - val_loss: 0.7036 - val_accuracy: 0.7115\n",
      "Epoch 64/70\n",
      "263/263 [==============================] - 18s 69ms/step - loss: 0.5970 - accuracy: 0.7631 - val_loss: 0.6722 - val_accuracy: 0.7394\n",
      "Epoch 65/70\n",
      "263/263 [==============================] - 18s 67ms/step - loss: 0.5836 - accuracy: 0.7695 - val_loss: 0.7111 - val_accuracy: 0.7096\n",
      "Epoch 66/70\n",
      "263/263 [==============================] - 17s 66ms/step - loss: 0.5835 - accuracy: 0.7657 - val_loss: 0.6885 - val_accuracy: 0.7212\n",
      "Epoch 67/70\n",
      "263/263 [==============================] - 17s 65ms/step - loss: 0.5810 - accuracy: 0.7694 - val_loss: 0.6777 - val_accuracy: 0.7337\n",
      "Epoch 68/70\n",
      "263/263 [==============================] - 17s 66ms/step - loss: 0.5815 - accuracy: 0.7705 - val_loss: 0.6874 - val_accuracy: 0.7327\n",
      "Epoch 69/70\n",
      "263/263 [==============================] - 17s 65ms/step - loss: 0.5695 - accuracy: 0.7716 - val_loss: 0.6691 - val_accuracy: 0.7394\n",
      "Epoch 70/70\n",
      "263/263 [==============================] - 17s 65ms/step - loss: 0.5688 - accuracy: 0.7767 - val_loss: 0.6808 - val_accuracy: 0.7317\n"
     ]
    }
   ],
   "source": [
    "history = model.fit(x = train_generator,epochs = epochs,validation_data = validation_generator)"
   ]
  },
  {
   "cell_type": "code",
   "execution_count": 45,
   "metadata": {},
   "outputs": [
    {
     "data": {
      "image/png": "[encoded data removed]",
      "text/plain": [
       "<Figure size 864x288 with 2 Axes>"
      ]
     },
     "metadata": {
      "needs_background": "light"
     },
     "output_type": "display_data"
    }
   ],
   "source": [
    "fig , ax = plt.subplots(1,2)\n",
    "train_acc = history.history['accuracy']\n",
    "train_loss = history.history['loss']\n",
    "fig.set_size_inches(12,4)\n",
    "\n",
    "ax[0].plot(history.history['accuracy'])\n",
    "ax[0].plot(history.history['val_accuracy'])\n",
    "ax[0].set_title('Training Accuracy vs Validation Accuracy')\n",
    "ax[0].set_ylabel('Accuracy')\n",
    "ax[0].set_xlabel('Epoch')\n",
    "ax[0].legend(['Train', 'Validation'], loc='upper left')\n",
    "\n",
    "ax[1].plot(history.history['loss'])\n",
    "ax[1].plot(history.history['val_loss'])\n",
    "ax[1].set_title('Training Loss vs Validation Loss')\n",
    "ax[1].set_ylabel('Loss')\n",
    "ax[1].set_xlabel('Epoch')\n",
    "ax[1].legend(['Train', 'Validation'], loc='upper left')\n",
    "\n",
    "plt.show()\n"
   ]
  },
  {
   "cell_type": "code",
   "execution_count": 83,
   "metadata": {},
   "outputs": [
    {
     "name": "stdout",
     "output_type": "stream",
     "text": [
      "Model: \"sequential_2\"\n",
      "_________________________________________________________________\n",
      "Layer (type)                 Output Shape              Param #   \n",
      "=================================================================\n",
      "module_wrapper_50 (ModuleWra (None, None, None, 32)    320       \n",
      "_________________________________________________________________\n",
      "module_wrapper_51 (ModuleWra (None, None, None, 64)    18496     \n",
      "_________________________________________________________________\n",
      "module_wrapper_52 (ModuleWra (None, None, None, 64)    256       \n",
      "_________________________________________________________________\n",
      "module_wrapper_53 (ModuleWra (None, None, None, 64)    0         \n",
      "_________________________________________________________________\n",
      "module_wrapper_54 (ModuleWra (None, None, None, 64)    0         \n",
      "_________________________________________________________________\n",
      "module_wrapper_55 (ModuleWra (None, None, None, 128)   204928    \n",
      "_________________________________________________________________\n",
      "module_wrapper_56 (ModuleWra (None, None, None, 128)   512       \n",
      "_________________________________________________________________\n",
      "module_wrapper_57 (ModuleWra (None, None, None, 128)   0         \n",
      "_________________________________________________________________\n",
      "module_wrapper_58 (ModuleWra (None, None, None, 128)   0         \n",
      "_________________________________________________________________\n",
      "module_wrapper_59 (ModuleWra (None, None, None, 512)   590336    \n",
      "_________________________________________________________________\n",
      "module_wrapper_60 (ModuleWra (None, None, None, 512)   2048      \n",
      "_________________________________________________________________\n",
      "module_wrapper_61 (ModuleWra (None, None, None, 512)   0         \n",
      "_________________________________________________________________\n",
      "module_wrapper_62 (ModuleWra (None, None, None, 512)   0         \n",
      "_________________________________________________________________\n",
      "module_wrapper_63 (ModuleWra (None, None, None, 512)   2359808   \n",
      "_________________________________________________________________\n",
      "module_wrapper_64 (ModuleWra (None, None, None, 512)   2048      \n",
      "_________________________________________________________________\n",
      "module_wrapper_65 (ModuleWra (None, None, None, 512)   0         \n",
      "_________________________________________________________________\n",
      "module_wrapper_66 (ModuleWra (None, None, None, 512)   0         \n",
      "_________________________________________________________________\n",
      "module_wrapper_67 (ModuleWra (None, None)              0         \n",
      "_________________________________________________________________\n",
      "module_wrapper_68 (ModuleWra (None, 256)               1179904   \n",
      "_________________________________________________________________\n",
      "module_wrapper_69 (ModuleWra (None, 256)               1024      \n",
      "_________________________________________________________________\n",
      "module_wrapper_70 (ModuleWra (None, 256)               0         \n",
      "_________________________________________________________________\n",
      "module_wrapper_71 (ModuleWra (None, 512)               131584    \n",
      "_________________________________________________________________\n",
      "module_wrapper_72 (ModuleWra (None, 512)               2048      \n",
      "_________________________________________________________________\n",
      "module_wrapper_73 (ModuleWra (None, 512)               0         \n",
      "_________________________________________________________________\n",
      "module_wrapper_74 (ModuleWra (None, 4)                 2052      \n",
      "=================================================================\n",
      "Total params: 4,495,364\n",
      "Trainable params: 4,491,396\n",
      "Non-trainable params: 3,968\n",
      "_________________________________________________________________\n"
     ]
    }
   ],
   "source": [
    "model.summary()"
   ]
  },
  {
   "cell_type": "code",
   "execution_count": 87,
   "metadata": {},
   "outputs": [
    {
     "name": "stderr",
     "output_type": "stream",
     "text": [
      "WARNING:absl:Found untraced functions such as conv2d_10_layer_call_fn, conv2d_10_layer_call_and_return_conditional_losses, conv2d_11_layer_call_fn, conv2d_11_layer_call_and_return_conditional_losses, dropout_12_layer_call_fn while saving (showing 5 of 75). These functions will not be directly callable after loading.\n"
     ]
    },
    {
     "name": "stdout",
     "output_type": "stream",
     "text": [
      "INFO:tensorflow:Assets written to: ./emo\\assets\n"
     ]
    },
    {
     "name": "stderr",
     "output_type": "stream",
     "text": [
      "INFO:tensorflow:Assets written to: ./emo\\assets\n"
     ]
    }
   ],
   "source": [
    "model.save('./emo')"
   ]
  },
  {
   "cell_type": "code",
   "execution_count": 78,
   "metadata": {},
   "outputs": [
    {
     "name": "stdout",
     "output_type": "stream",
     "text": [
      "(48, 48)\n"
     ]
    },
    {
     "data": {
      "image/png": "[encoded data removed]",
      "text/plain": [
       "<Figure size 432x288 with 1 Axes>"
      ]
     },
     "metadata": {
      "needs_background": "light"
     },
     "output_type": "display_data"
    }
   ],
   "source": [
    "img = image.load_img(\"./test/surprised/im130.png\",target_size = (48,48),color_mode = \"grayscale\")\n",
    "img = np.array(img)\n",
    "plt.imshow(img)\n",
    "print(img.shape)"
   ]
  },
  {
   "cell_type": "code",
   "execution_count": 79,
   "metadata": {},
   "outputs": [],
   "source": [
    "label_dict = {0:'Angry',1:'Happy',2:'Neutral',3:'Sad'}"
   ]
  },
  {
   "cell_type": "code",
   "execution_count": 80,
   "metadata": {},
   "outputs": [
    {
     "name": "stdout",
     "output_type": "stream",
     "text": [
      "[1.870999e-30, 0.0, 8.2950535e-27, 1.0]\n"
     ]
    }
   ],
   "source": [
    "img = np.expand_dims(img,axis = 0) #makes image shape (1,48,48)\n",
    "img = img.reshape(1,48,48,1)\n",
    "result = model.predict(img)\n",
    "result = list(result[0])\n",
    "print(result)"
   ]
  },
  {
   "cell_type": "code",
   "execution_count": 81,
   "metadata": {},
   "outputs": [
    {
     "name": "stdout",
     "output_type": "stream",
     "text": [
      "Sad\n"
     ]
    }
   ],
   "source": [
    "img_index = result.index(max(result))\n",
    "print(label_dict[img_index])\n",
    "plt.show()"
   ]
  },
  {
   "cell_type": "code",
   "execution_count": 88,
   "metadata": {},
   "outputs": [],
   "source": [
    "train_data_path = './train_1'\n",
    "test_data_path = './test_1'\n",
    "img_rows = 150\n",
    "img_cols = 150\n",
    "epochs = 30\n",
    "batch_size = 32\n",
    "num_of_train_samples = 3000\n",
    "num_of_test_samples = 600"
   ]
  },
  {
   "cell_type": "code",
   "execution_count": 89,
   "metadata": {},
   "outputs": [
    {
     "name": "stdout",
     "output_type": "stream",
     "text": [
      "Epoch 1/30\n",
      "\r",
      " 1/93 [..............................] - ETA: 9s - loss: 0.5601 - accuracy: 0.7188"
     ]
    },
    {
     "name": "stderr",
     "output_type": "stream",
     "text": [
      "C:\\Users\\sudhi\\AppData\\Roaming\\Python\\Python37\\site-packages\\tensorflow\\python\\keras\\engine\\training.py:1940: UserWarning: `Model.fit_generator` is deprecated and will be removed in a future version. Please use `Model.fit`, which supports generators.\n",
      "  warnings.warn('`Model.fit_generator` is deprecated and '\n"
     ]
    },
    {
     "name": "stdout",
     "output_type": "stream",
     "text": [
      "93/93 [==============================] - ETA: 0s - loss: 0.5502 - accuracy: 0.7799WARNING:tensorflow:Your input ran out of data; interrupting training. Make sure that your dataset or generator can generate at least `steps_per_epoch * epochs` batches (in this case, 18 batches). You may need to use the repeat() function when building your dataset.\n"
     ]
    },
    {
     "name": "stderr",
     "output_type": "stream",
     "text": [
      "WARNING:tensorflow:Your input ran out of data; interrupting training. Make sure that your dataset or generator can generate at least `steps_per_epoch * epochs` batches (in this case, 18 batches). You may need to use the repeat() function when building your dataset.\n"
     ]
    },
    {
     "name": "stdout",
     "output_type": "stream",
     "text": [
      "93/93 [==============================] - 6s 68ms/step - loss: 0.5502 - accuracy: 0.7799 - val_loss: 0.7134 - val_accuracy: 0.7231\n",
      "Epoch 2/30\n",
      "93/93 [==============================] - 6s 63ms/step - loss: 0.5582 - accuracy: 0.7755\n",
      "Epoch 3/30\n",
      "93/93 [==============================] - 6s 63ms/step - loss: 0.5374 - accuracy: 0.7885 0s - loss: 0.5383 - accu\n",
      "Epoch 4/30\n",
      "93/93 [==============================] - 6s 62ms/step - loss: 0.5365 - accuracy: 0.7893 0s - loss: 0.538\n",
      "Epoch 5/30\n",
      "93/93 [==============================] - 6s 62ms/step - loss: 0.5559 - accuracy: 0.7787\n",
      "Epoch 6/30\n",
      "93/93 [==============================] - 6s 62ms/step - loss: 0.5425 - accuracy: 0.7886 0s - loss: 0.5383 - accu\n",
      "Epoch 7/30\n",
      "93/93 [==============================] - 6s 63ms/step - loss: 0.5389 - accuracy: 0.7905\n",
      "Epoch 8/30\n",
      "93/93 [==============================] - 6s 63ms/step - loss: 0.5513 - accuracy: 0.7781\n",
      "Epoch 9/30\n",
      "93/93 [==============================] - 6s 66ms/step - loss: 0.5358 - accuracy: 0.7860\n",
      "Epoch 10/30\n",
      "93/93 [==============================] - 6s 67ms/step - loss: 0.5412 - accuracy: 0.7866\n",
      "Epoch 11/30\n",
      "93/93 [==============================] - 6s 65ms/step - loss: 0.5411 - accuracy: 0.7878\n",
      "Epoch 12/30\n",
      "93/93 [==============================] - 6s 65ms/step - loss: 0.5242 - accuracy: 0.7955\n",
      "Epoch 13/30\n",
      "93/93 [==============================] - 9s 91ms/step - loss: 0.5216 - accuracy: 0.7951\n",
      "Epoch 14/30\n",
      "93/93 [==============================] - 7s 78ms/step - loss: 0.5264 - accuracy: 0.7881 0s - loss: 0.5275 - ac\n",
      "Epoch 15/30\n",
      "93/93 [==============================] - 7s 75ms/step - loss: 0.5283 - accuracy: 0.7907\n",
      "Epoch 16/30\n",
      "93/93 [==============================] - 6s 63ms/step - loss: 0.5196 - accuracy: 0.7925\n",
      "Epoch 17/30\n",
      "93/93 [==============================] - 6s 63ms/step - loss: 0.5316 - accuracy: 0.7905\n",
      "Epoch 18/30\n",
      "93/93 [==============================] - 6s 66ms/step - loss: 0.5254 - accuracy: 0.7930\n",
      "Epoch 19/30\n",
      "93/93 [==============================] - 6s 66ms/step - loss: 0.5132 - accuracy: 0.7907\n",
      "Epoch 20/30\n",
      "93/93 [==============================] - 7s 70ms/step - loss: 0.5284 - accuracy: 0.7928\n",
      "Epoch 21/30\n",
      "93/93 [==============================] - 6s 64ms/step - loss: 0.5181 - accuracy: 0.7987 1s - loss: 0 - ETA: 0s - loss: 0.5211 - \n",
      "Epoch 22/30\n",
      "93/93 [==============================] - 6s 63ms/step - loss: 0.5238 - accuracy: 0.7937\n",
      "Epoch 23/30\n",
      "93/93 [==============================] - 6s 65ms/step - loss: 0.5380 - accuracy: 0.7836\n",
      "Epoch 24/30\n",
      "93/93 [==============================] - 6s 63ms/step - loss: 0.5160 - accuracy: 0.7974\n",
      "Epoch 25/30\n",
      "93/93 [==============================] - 6s 63ms/step - loss: 0.5258 - accuracy: 0.7885\n",
      "Epoch 26/30\n",
      "93/93 [==============================] - 6s 61ms/step - loss: 0.5059 - accuracy: 0.7971\n",
      "Epoch 27/30\n",
      "93/93 [==============================] - 6s 61ms/step - loss: 0.5333 - accuracy: 0.7854\n",
      "Epoch 28/30\n",
      "93/93 [==============================] - 6s 62ms/step - loss: 0.5123 - accuracy: 0.7972\n",
      "Epoch 29/30\n",
      "93/93 [==============================] - 6s 61ms/step - loss: 0.5080 - accuracy: 0.7932\n",
      "Epoch 30/30\n",
      "93/93 [==============================] - 6s 61ms/step - loss: 0.5039 - accuracy: 0.8016\n"
     ]
    },
    {
     "name": "stderr",
     "output_type": "stream",
     "text": [
      "C:\\Users\\sudhi\\AppData\\Roaming\\Python\\Python37\\site-packages\\tensorflow\\python\\keras\\engine\\training.py:2001: UserWarning: `Model.predict_generator` is deprecated and will be removed in a future version. Please use `Model.predict`, which supports generators.\n",
      "  warnings.warn('`Model.predict_generator` is deprecated and '\n"
     ]
    },
    {
     "name": "stdout",
     "output_type": "stream",
     "text": [
      "WARNING:tensorflow:Your input ran out of data; interrupting training. Make sure that your dataset or generator can generate at least `steps_per_epoch * epochs` batches (in this case, 19 batches). You may need to use the repeat() function when building your dataset.\n"
     ]
    },
    {
     "name": "stderr",
     "output_type": "stream",
     "text": [
      "WARNING:tensorflow:Your input ran out of data; interrupting training. Make sure that your dataset or generator can generate at least `steps_per_epoch * epochs` batches (in this case, 19 batches). You may need to use the repeat() function when building your dataset.\n"
     ]
    },
    {
     "name": "stdout",
     "output_type": "stream",
     "text": [
      "[[ 30  60  56  45]\n",
      " [ 61 118  90  85]\n",
      " [ 45  81  70  50]\n",
      " [ 41  87  72  49]]\n"
     ]
    }
   ],
   "source": [
    "from sklearn.metrics import classification_report, confusion_matrix\n",
    "\n",
    "model.fit_generator(train_generator,\n",
    "                    steps_per_epoch=num_of_train_samples // batch_size,\n",
    "                    epochs=epochs,\n",
    "                    validation_data=validation_generator,\n",
    "                    validation_steps=num_of_test_samples // batch_size)\n",
    "\n",
    "Y_pred = model.predict_generator(validation_generator, num_of_test_samples // batch_size+1)\n",
    "y_pred = np.argmax(Y_pred, axis=1)\n",
    "\n",
    "cf_matrix = confusion_matrix(validation_generator.classes, y_pred)\n",
    "print(cf_matrix)"
   ]
  },
  {
   "cell_type": "code",
   "execution_count": 90,
   "metadata": {},
   "outputs": [
    {
     "name": "stdout",
     "output_type": "stream",
     "text": [
      "263/263 [==============================] - 10s 39ms/step - loss: 0.3817 - accuracy: 0.8543\n",
      "17/17 [==============================] - 0s 22ms/step - loss: 0.7143 - accuracy: 0.7365\n",
      "final train accuracy = 85.43 , validation accuracy = 73.65\n"
     ]
    }
   ],
   "source": [
    "train_loss, train_acc = model.evaluate(train_generator)\n",
    "test_loss, test_acc   = model.evaluate(validation_generator)\n",
    "print(\"final train accuracy = {:.2f} , validation accuracy = {:.2f}\".format(train_acc*100, test_acc*100))"
   ]
  },
  {
   "cell_type": "code",
   "execution_count": 92,
   "metadata": {},
   "outputs": [],
   "source": [
    "model.save_weights(\"new.h5\")"
   ]
  },
  {
   "cell_type": "code",
   "execution_count": 19,
   "metadata": {},
   "outputs": [
    {
     "name": "stderr",
     "output_type": "stream",
     "text": [
      "WARNING:absl:Found untraced functions such as conv2d_layer_call_fn, conv2d_layer_call_and_return_conditional_losses, conv2d_1_layer_call_fn, conv2d_1_layer_call_and_return_conditional_losses, dropout_layer_call_fn while saving (showing 5 of 75). These functions will not be directly callable after loading.\n"
     ]
    },
    {
     "name": "stdout",
     "output_type": "stream",
     "text": [
      "INFO:tensorflow:Assets written to: model/assets\n"
     ]
    },
    {
     "name": "stderr",
     "output_type": "stream",
     "text": [
      "INFO:tensorflow:Assets written to: model/assets\n"
     ]
    }
   ],
   "source": [
    "model.save('model/')"
   ]
  },
  {
   "cell_type": "code",
   "execution_count": null,
   "metadata": {},
   "outputs": [],
   "source": []
  },
  {
   "cell_type": "code",
   "execution_count": null,
   "metadata": {},
   "outputs": [],
   "source": []
  }
 ],
 "metadata": {
  "kernelspec": {
   "display_name": "Python 3",
   "language": "python",
   "name": "python3"
  },
  "language_info": {
   "codemirror_mode": {
    "name": "ipython",
    "version": 3
   },
   "file_extension": ".py",
   "mimetype": "text/x-python",
   "name": "python",
   "nbconvert_exporter": "python",
   "pygments_lexer": "ipython3",
   "version": "3.8.3"
  }
 },
 "nbformat": 4,
 "nbformat_minor": 4
}
